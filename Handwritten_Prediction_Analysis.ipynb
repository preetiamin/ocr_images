{
 "cells": [
  {
   "cell_type": "code",
   "execution_count": 1,
   "metadata": {},
   "outputs": [],
   "source": [
    "import pandas as pd\n",
    "from model.helper import *\n",
    "import time\n",
    "from model.ocr import *"
   ]
  },
  {
   "cell_type": "markdown",
   "metadata": {},
   "source": [
    "### This notebook processes raw OCR Text output from pre 1900 images and analyzes accuracy"
   ]
  },
  {
   "cell_type": "markdown",
   "metadata": {},
   "source": [
    "Load raw data with OCR text/barcodes, labeled data, nlp model and regex model"
   ]
  },
  {
   "cell_type": "code",
   "execution_count": 2,
   "metadata": {},
   "outputs": [],
   "source": [
    "# Load raw data\n",
    "df=pd.read_excel('data/handwritten_raw_ocr_data.xlsx')\n",
    "mod = handwritten_model()\n",
    "df_labels = pd.read_excel('data/specimens_pre_1900.xlsx')\n",
    "pd.set_option('mode.chained_assignment', None)"
   ]
  },
  {
   "cell_type": "markdown",
   "metadata": {},
   "source": [
    "Make predictions using the model"
   ]
  },
  {
   "cell_type": "code",
   "execution_count": 3,
   "metadata": {},
   "outputs": [
    {
     "name": "stdout",
     "output_type": "stream",
     "text": [
      "Total time: 38.8 secs\n"
     ]
    }
   ],
   "source": [
    "# Retrieve entities using nlp (for state, species) and regex (for date, barcode)\n",
    "starttime = time.time()\n",
    "df['State'] = df['OCRText'].dropna().apply(mod.predict_state)\n",
    "df['Species'] = df['OCRText'].dropna().apply(mod.predict_species)\n",
    "df['Year'] = df['OCRText'].dropna().apply(mod.find_year)\n",
    "df['Barcode'] = df['OCRText'].dropna().apply(find_barcode)\n",
    "print('Total time: {:.1f} secs'.format(time.time()-starttime))"
   ]
  },
  {
   "cell_type": "markdown",
   "metadata": {},
   "source": [
    "Load labels from labeled data file"
   ]
  },
  {
   "cell_type": "code",
   "execution_count": 4,
   "metadata": {},
   "outputs": [
    {
     "name": "stdout",
     "output_type": "stream",
     "text": [
      "Total time: 0.0 secs\n"
     ]
    }
   ],
   "source": [
    "# Get actual labels\n",
    "starttime = time.time()\n",
    "df['Act_Barcode'] = df_labels['Barcode']\n",
    "df['Act_State'] = df_labels['ProvinceState']\n",
    "df['Act_Date'] = df_labels['DateFrom']\n",
    "print('Total time: {:.1f} secs'.format(time.time()-starttime))"
   ]
  },
  {
   "cell_type": "markdown",
   "metadata": {},
   "source": [
    "Change dates to date formats"
   ]
  },
  {
   "cell_type": "code",
   "execution_count": 5,
   "metadata": {},
   "outputs": [],
   "source": [
    "df['Act_Date'] = pd.to_datetime(df['Act_Date'], errors='coerce')\n",
    "df['Act_Year'] = df['Act_Date'].dropna().apply(lambda x: x.year).astype('int64')"
   ]
  },
  {
   "cell_type": "code",
   "execution_count": 6,
   "metadata": {},
   "outputs": [],
   "source": [
    "def calculate_accuracy(df):\n",
    "    acc_state = 100 * (df[df['State']==df['Act_State']]).shape[0]/df['OCRText'].count()\n",
    "    acc_date = 100 * (df[df['Year']==df['Act_Year']]).shape[0]/df['OCRText'].count()\n",
    "    acc_barcode = 100 * (df[df['Barcode']==df['Act_Barcode']]).shape[0]/df['OCRText'].count()\n",
    "    \n",
    "    perc_species = 100 * df['Species'].count()/df['OCRText'].count()\n",
    "\n",
    "    print('Accuracy ======> State: {:.1f}%, Year: {:.1f}%, Species predicted: {:.1f}%'.format(\n",
    "        acc_state, acc_date, perc_species))\n",
    "    print('Barcode accuracy ======> {:.1f}%'.format(acc_barcode))"
   ]
  },
  {
   "cell_type": "markdown",
   "metadata": {},
   "source": [
    "Predict accuracy"
   ]
  },
  {
   "cell_type": "code",
   "execution_count": 7,
   "metadata": {},
   "outputs": [
    {
     "name": "stdout",
     "output_type": "stream",
     "text": [
      "Accuracy ======> State: 89.3%, Year: 60.1%, Species predicted: 59.1%\n",
      "Barcode accuracy ======> 88.8%\n"
     ]
    }
   ],
   "source": [
    "calculate_accuracy(df)"
   ]
  },
  {
   "cell_type": "markdown",
   "metadata": {},
   "source": [
    "Save files"
   ]
  },
  {
   "cell_type": "code",
   "execution_count": 10,
   "metadata": {},
   "outputs": [],
   "source": [
    "df.to_csv('data/handwritten_prediction_analysis.csv')"
   ]
  },
  {
   "cell_type": "code",
   "execution_count": null,
   "metadata": {},
   "outputs": [],
   "source": []
  }
 ],
 "metadata": {
  "kernelspec": {
   "display_name": "Python 3",
   "language": "python",
   "name": "python3"
  },
  "language_info": {
   "codemirror_mode": {
    "name": "ipython",
    "version": 3
   },
   "file_extension": ".py",
   "mimetype": "text/x-python",
   "name": "python",
   "nbconvert_exporter": "python",
   "pygments_lexer": "ipython3",
   "version": "3.7.4"
  }
 },
 "nbformat": 4,
 "nbformat_minor": 2
}
